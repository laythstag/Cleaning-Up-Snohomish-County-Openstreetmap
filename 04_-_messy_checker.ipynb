{
 "cells": [
  {
   "cell_type": "code",
   "execution_count": 2,
   "metadata": {
    "collapsed": true,
    "scrolled": true
   },
   "outputs": [],
   "source": [
    "import sqlite3\n",
    "import os\n",
    "conn = sqlite3.connect('final_county.sqlite')\n",
    "c = conn.cursor()"
   ]
  },
  {
   "cell_type": "code",
   "execution_count": null,
   "metadata": {
    "scrolled": true
   },
   "outputs": [],
   "source": [
    "# Tables available in the database.\n",
    "\n",
    "tables = []\n",
    "c.execute(\"SELECT name FROM sqlite_master WHERE type='table';\")\n",
    "for t in c.fetchall():\n",
    "    tables.append(str(t)[3:-3])\n",
    "print tables"
   ]
  },
  {
   "cell_type": "code",
   "execution_count": null,
   "metadata": {
    "scrolled": true
   },
   "outputs": [],
   "source": [
    "# Keys for each table.\n",
    "\n",
    "table_dict = {}\n",
    "for table in tables:\n",
    "    table_dict[table] = []\n",
    "    c.execute('PRAGMA TABLE_INFO({})'.format(table))\n",
    "    names = [tup[1] for tup in c.fetchall()]\n",
    "    for name in names:\n",
    "        table_dict[table].append(str(name))\n",
    "for table in table_dict:\n",
    "    print table, table_dict[table]\n",
    "    if 'tags' not in table:\n",
    "        c.execute('SELECT * FROM {} LIMIT 1;'.format(table))\n",
    "    else:\n",
    "        c.execute('SELECT * FROM {} WHERE type!=\"regular\" LIMIT 1;'.format(table))\n",
    "    print c.fetchall()"
   ]
  },
  {
   "cell_type": "code",
   "execution_count": null,
   "metadata": {
    "scrolled": true
   },
   "outputs": [],
   "source": [
    "# The number of times each unique uid appears in new_nodes.\n",
    "active_users = []\n",
    "c.execute(\"\"\"\n",
    "SELECT COUNT(*)\n",
    "FROM\n",
    "(SELECT uid\n",
    "FROM new_nodes\n",
    "UNION ALL\n",
    "SELECT uid\n",
    "FROM new_ways) u\n",
    "GROUP BY u.uid\n",
    "ORDER BY COUNT(*)\n",
    "DESC;\"\"\")\n",
    "for v in c.fetchall():\n",
    "    active_users.append(int(v[0]))\n",
    "print active_users"
   ]
  },
  {
   "cell_type": "code",
   "execution_count": null,
   "metadata": {
    "scrolled": true
   },
   "outputs": [],
   "source": [
    "# The number of times each unique uid appears in new_ways.\n",
    "\n",
    "nw_active_users = []\n",
    "c.execute(\"SELECT COUNT(*) FROM new_ways GROUP BY uid ORDER BY COUNT(*) DESC;\")\n",
    "for v in c.fetchall():\n",
    "    nw_active_users.append(int(v[0]))\n",
    "print nw_active_users"
   ]
  },
  {
   "cell_type": "code",
   "execution_count": null,
   "metadata": {
    "collapsed": true,
    "scrolled": true
   },
   "outputs": [],
   "source": [
    "%matplotlib inline\n",
    "import numpy as np\n",
    "import matplotlib.pyplot as plt\n",
    "import matplotlib as mpl\n",
    "import sqlite3\n",
    "import os\n",
    "conn = sqlite3.connect('final_county.sqlite')\n",
    "c = conn.cursor()\n",
    "plt.style.use('seaborn-white')"
   ]
  },
  {
   "cell_type": "code",
   "execution_count": null,
   "metadata": {
    "scrolled": false
   },
   "outputs": [],
   "source": [
    "# A plot of The number of times each unique uid appears in new_nodes.\n",
    "\n",
    "active_users = []\n",
    "c.execute(\"\"\"\n",
    "SELECT COUNT(*)\n",
    "FROM\n",
    "(SELECT uid\n",
    "FROM new_nodes\n",
    "UNION ALL\n",
    "SELECT uid\n",
    "FROM new_ways) u\n",
    "GROUP BY u.uid\n",
    "ORDER BY COUNT(*)\n",
    "DESC;\"\"\")\n",
    "for v in c.fetchall():\n",
    "    active_users.append(int(v[0]))\n",
    "\n",
    "mpl.rcParams['figure.figsize'] = [12.0, 10.0]\n",
    "plt.plot(active_users)"
   ]
  },
  {
   "cell_type": "code",
   "execution_count": null,
   "metadata": {
    "scrolled": false
   },
   "outputs": [],
   "source": [
    "# A plot of The number of times each unique uid appears in new_ways.\n",
    "\n",
    "plt.plot(nw_active_users)"
   ]
  },
  {
   "cell_type": "code",
   "execution_count": null,
   "metadata": {
    "scrolled": true
   },
   "outputs": [],
   "source": [
    "# Words in the type column with the number of times they occured.\n",
    "\n",
    "c.execute(\"\"\"\n",
    "SELECT *, COUNT(*)\n",
    "FROM (SELECT * FROM new_nodes_tags\n",
    "UNION ALL\n",
    "SELECT * FROM new_ways_tags) AS c\n",
    "GROUP BY c.value\n",
    "ORDER BY COUNT(*)\n",
    "DESC;\n",
    "\"\"\")\n",
    "for f in c.fetchall():\n",
    "    if f[4] == 3:\n",
    "        print f"
   ]
  },
  {
   "cell_type": "code",
   "execution_count": null,
   "metadata": {
    "scrolled": true
   },
   "outputs": [],
   "source": [
    "c.execute(\"\"\"\n",
    "SELECT c.value, COUNT(*)\n",
    "FROM (SELECT * FROM new_nodes_tags\n",
    "UNION ALL\n",
    "SELECT * FROM new_ways_tags) AS c\n",
    "WHERE c.key = 'county'\n",
    "GROUP BY c.value\n",
    "ORDER BY COUNT(*)\n",
    "DESC;\n",
    "\"\"\")\n",
    "for f in c.fetchall():\n",
    "    print f[0], '|',f[1]"
   ]
  },
  {
   "cell_type": "code",
   "execution_count": null,
   "metadata": {
    "collapsed": true
   },
   "outputs": [],
   "source": [
    "c.execute(\"\"\"\n",
    "SELECT *\n",
    "FROM (SELECT * FROM new_nodes_tags\n",
    "UNION ALL\n",
    "SELECT * FROM new_ways_tags) AS c\n",
    "WHERE c.key = ' ';\n",
    "\"\"\")\n",
    "for f in c.fetchall():\n",
    "    print f"
   ]
  },
  {
   "cell_type": "code",
   "execution_count": null,
   "metadata": {
    "scrolled": true
   },
   "outputs": [],
   "source": [
    "# Words in the key column with the number of times they occur.\n",
    "c.execute(\"SELECT n.key, COUNT(*) FROM new_nodes_tags n GROUP BY key ORDER BY key COLLATE NOCASE;\")\n",
    "for f in c.fetchall():\n",
    "    print f[0], ',,',f[1]"
   ]
  },
  {
   "cell_type": "code",
   "execution_count": null,
   "metadata": {
    "collapsed": true,
    "scrolled": false
   },
   "outputs": [],
   "source": [
    "# List of key, value pairs  from new_nodes_tags and the number of times they occur.\n",
    "\n",
    "c.execute(\"\"\"\n",
    "SELECT value, key, COUNT(*) \n",
    "FROM new_nodes_tags \n",
    "GROUP BY value, key \n",
    "ORDER BY key COLLATE NOCASE, value COLLATE NOCASE;\"\"\")\n",
    "for f in c.fetchall():\n",
    "    print f\n",
    "\n",
    "\n",
    "# Things to fix:\n",
    "# - naptan?\n",
    "# x city (compare to database)\n",
    "# x county (compare to database)\n",
    "# - cuisine (check spelling and capitalization)\n",
    "# x opening hours (give seven columns, one for each day of the week)\n",
    "# x phone (standardize)\n",
    "# x postcode (standardize)\n",
    "# - resturant - tradition\n",
    "# - source\n",
    "# x ST_alpha, state, etc. (standardize value and key)\n",
    "# x street and name[for bus_stop] (standardize)\n",
    "# x split ';' into new columns\n"
   ]
  },
  {
   "cell_type": "code",
   "execution_count": null,
   "metadata": {
    "collapsed": true,
    "scrolled": true
   },
   "outputs": [],
   "source": [
    "# List of key, value pairs  from new_nodes_tags and the number of times they occur.\n",
    "\n",
    "c.execute(\"SELECT value, key, COUNT(*) from new_ways_tags GROUP BY value, key ORDER BY key COLLATE NOCASE, value COLLATE NOCASE;\")\n",
    "for f in c.fetchall():\n",
    "    print f\n"
   ]
  },
  {
   "cell_type": "code",
   "execution_count": null,
   "metadata": {
    "collapsed": true
   },
   "outputs": [],
   "source": [
    "c.execute(\"\"\"\n",
    "SELECT value\n",
    "FROM new_nodes_tags\n",
    "WHERE key='phone'\n",
    "ORDER BY value;\n",
    "\"\"\")\n",
    "for f in c.fetchall():\n",
    "    print f[0]"
   ]
  },
  {
   "cell_type": "code",
   "execution_count": null,
   "metadata": {
    "collapsed": true
   },
   "outputs": [],
   "source": [
    "\n",
    "\n",
    "#'county' replaces:\n",
    "#'County'\n",
    "#'county_name'\n",
    "\n",
    "\n",
    "c.execute(\"\"\"\n",
    "UPDATE new_ways_tags\n",
    "SET key='county'\n",
    "WHERE key='County'\n",
    "\"\"\")\n",
    "\n",
    "c.execute(\"\"\"\n",
    "UPDATE new_nodes_tags\n",
    "SET key='county'\n",
    "WHERE key='County'\n",
    "\"\"\")\n",
    "\n",
    "c.execute(\"\"\"\n",
    "UPDATE new_ways_tags\n",
    "SET key='county'\n",
    "WHERE key='county_name'\n",
    "\"\"\")\n",
    "\n",
    "c.execute(\"\"\"\n",
    "UPDATE new_nodes_tags\n",
    "SET key='county'\n",
    "WHERE key='county_name'\n",
    "\"\"\")\n",
    "\n",
    "#'County_num' replaces:\n",
    "#'COUNTYFP'\n",
    "\n",
    "c.execute(\"\"\"\n",
    "UPDATE new_ways_tags\n",
    "SET key='County_num'\n",
    "WHERE key='COUNTYFP'\n",
    "\"\"\")\n",
    "\n",
    "c.execute(\"\"\"\n",
    "UPDATE new_nodes_tags\n",
    "SET key='County_num'\n",
    "WHERE key='COUNTYFP'\n",
    "\"\"\")\n",
    "\n",
    "#'elevation' replaces:\n",
    "#'Elevation'\n",
    "\n",
    "c.execute(\"\"\"\n",
    "UPDATE new_ways_tags\n",
    "SET key='elevation'\n",
    "WHERE key='Elevation'\n",
    "\"\"\")\n",
    "\n",
    "c.execute(\"\"\"\n",
    "UPDATE new_nodes_tags\n",
    "SET key='elevation'\n",
    "WHERE key='Elevation'\n",
    "\"\"\")\n",
    "\n",
    "#'postal_code' replaces:\n",
    "#'postcode'\n",
    "\n",
    "c.execute(\"\"\"\n",
    "UPDATE new_ways_tags\n",
    "SET key='postal_code'\n",
    "WHERE key='postcode'\n",
    "\"\"\")\n",
    "\n",
    "c.execute(\"\"\"\n",
    "UPDATE new_nodes_tags\n",
    "SET key='postal_code'\n",
    "WHERE key='postcode'\n",
    "\"\"\")\n",
    "\n",
    "#'ST_alpha' replaces:\n",
    "#'ST_alph'\n",
    "#'state_code'\n",
    "\n",
    "c.execute(\"\"\"\n",
    "UPDATE new_ways_tags\n",
    "SET key='ST_alpha'\n",
    "WHERE key='ST_alph'\n",
    "\"\"\")\n",
    "\n",
    "c.execute(\"\"\"\n",
    "UPDATE new_nodes_tags\n",
    "SET key='ST_alpha'\n",
    "WHERE key='ST_alph'\n",
    "\"\"\")\n",
    "\n",
    "c.execute(\"\"\"\n",
    "UPDATE new_ways_tags\n",
    "SET key='ST_alpha'\n",
    "WHERE key='state_code'\n",
    "\"\"\")\n",
    "\n",
    "c.execute(\"\"\"\n",
    "UPDATE new_nodes_tags\n",
    "SET key='ST_alpha'\n",
    "WHERE key='state_code'\n",
    "\"\"\")\n",
    "\n",
    "#'ST_num' replaces:\n",
    "#'STATEFP'\n",
    "#'state_id'\n",
    "\n",
    "c.execute(\"\"\"\n",
    "UPDATE new_ways_tags\n",
    "SET key='ST_num'\n",
    "WHERE key='STATEFP'\n",
    "\"\"\")\n",
    "\n",
    "c.execute(\"\"\"\n",
    "UPDATE new_nodes_tags\n",
    "SET key='ST_num'\n",
    "WHERE key='STATEFP'\n",
    "\"\"\")\n",
    "\n",
    "c.execute(\"\"\"\n",
    "UPDATE new_ways_tags\n",
    "SET key='ST_num'\n",
    "WHERE key='state_id'\n",
    "\"\"\")\n",
    "\n",
    "c.execute(\"\"\"\n",
    "UPDATE new_nodes_tags\n",
    "SET key='ST_num'\n",
    "WHERE key='state_id'\n",
    "\"\"\")\n"
   ]
  },
  {
   "cell_type": "code",
   "execution_count": null,
   "metadata": {
    "collapsed": true
   },
   "outputs": [],
   "source": [
    "\n",
    "\n",
    "c.execute(\"\"\"\n",
    "SELECT * \n",
    "FROM new_nodes_tags\n",
    "WHERE key='city';\"\"\")\n",
    "for f in c.fetchall():\n",
    "    value = format_and_spelling(f[2], city, 'city', to_check, common_mistakes)\n",
    "    \n",
    "    \n",
    "c.execute(\"\"\"\n",
    "SELECT * \n",
    "FROM new_ways_tags\n",
    "WHERE key='city';\"\"\")\n",
    "for f in c.fetchall():\n",
    "    value = format_and_spelling(f[2], city, 'city', to_check, common_mistakes)\n",
    "\n",
    "c.execute(\"\"\"\n",
    "SELECT * \n",
    "FROM new_nodes_tags\n",
    "WHERE key='county';\"\"\")\n",
    "for f in c.fetchall():\n",
    "    value = format_and_spelling(f[2], county, 'county', to_check, common_mistakes)\n",
    "    \n",
    "c.execute(\"\"\"\n",
    "SELECT * \n",
    "FROM new_ways_tags\n",
    "WHERE key='county';\"\"\")\n",
    "for f in c.fetchall():\n",
    "    value = format_and_spelling(f[2], county, 'county', to_check, common_mistakes)\n",
    "\n",
    "c.execute(\"\"\"\n",
    "SELECT * \n",
    "FROM new_nodes_tags\n",
    "WHERE key='state';\"\"\")\n",
    "for f in c.fetchall():\n",
    "    value = format_and_spelling(f[2], state, 'state', to_check, common_mistakes)\n",
    "    \n",
    "c.execute(\"\"\"\n",
    "SELECT * \n",
    "FROM new_ways_tags\n",
    "WHERE key='state';\"\"\")\n",
    "for f in c.fetchall():\n",
    "    value = format_and_spelling(f[2], state, 'state', to_check, common_mistakes)\n",
    "    \n",
    "c.execute(\"\"\"\n",
    "SELECT * \n",
    "FROM new_nodes_tags\n",
    "WHERE key='country';\"\"\")\n",
    "for f in c.fetchall():\n",
    "    value = format_and_spelling(f[2], country, 'country', to_check, common_mistakes)\n",
    "    \n",
    "c.execute(\"\"\"\n",
    "SELECT * \n",
    "FROM new_ways_tags\n",
    "WHERE key='country';\"\"\")\n",
    "for f in c.fetchall():\n",
    "    value = format_and_spelling(f[2], country, 'country', to_check, common_mistakes)"
   ]
  },
  {
   "cell_type": "code",
   "execution_count": null,
   "metadata": {
    "collapsed": true
   },
   "outputs": [],
   "source": [
    "def fix_phone(c, table):\n",
    "    c.execute(\"\"\"\n",
    "    SELECT value\n",
    "    FROM {table}\n",
    "    WHERE key='phone';\n",
    "    \"\"\".format(table=table))\n",
    "    for f in c.fetchall():\n",
    "        print f[0]"
   ]
  },
  {
   "cell_type": "code",
   "execution_count": null,
   "metadata": {
    "collapsed": true,
    "scrolled": true
   },
   "outputs": [],
   "source": [
    "import winsound\n",
    "# Play Windows exit sound.\n",
    "winsound.PlaySound(\"SystemHand\", winsound.SND_ALIAS)\n",
    "winsound.PlaySound(\"Question\", winsound.SND_ALIAS)"
   ]
  },
  {
   "cell_type": "code",
   "execution_count": null,
   "metadata": {
    "collapsed": true,
    "scrolled": true
   },
   "outputs": [],
   "source": [
    "conn.commit()\n",
    "conn.close()"
   ]
  },
  {
   "cell_type": "code",
   "execution_count": null,
   "metadata": {
    "collapsed": true,
    "scrolled": true
   },
   "outputs": [],
   "source": [
    "lat = 48.4428992, 47.6302001\n",
    "lon = -120.5969068, -122.7529975"
   ]
  },
  {
   "cell_type": "code",
   "execution_count": null,
   "metadata": {
    "collapsed": true
   },
   "outputs": [],
   "source": [
    "print range(10)"
   ]
  },
  {
   "cell_type": "code",
   "execution_count": 34,
   "metadata": {},
   "outputs": [
    {
     "name": "stdout",
     "output_type": "stream",
     "text": [
      "key|value\n",
      "-|-\n",
      "address | 2101 N Northlake Wy\n",
      "address | N 34th St & Fremont Ave N\n",
      "address | 12518 Lake City Way Northeast\n",
      "address | 2300 Arboretum Dr E\n",
      "address | 5500 Phinney Ave N\n",
      "address | 7600 Sand Point Wy NE Unknown\n",
      "address | Burke-Gilman Trail underneath University Bridge\n",
      "address | NE 40th St & NE Pacific St\n",
      "address | Northlake Ave & 4th Ave NE\n",
      "address | 1400 E Galer St\n"
     ]
    }
   ],
   "source": [
    "c.execute(\"\"\"\n",
    "SELECT key, value\n",
    "FROM new_nodes_tags\n",
    "WHERE key = 'address'\n",
    "LIMIT 10;\"\"\")\n",
    "print 'key|value'\n",
    "print '-|-'\n",
    "for n in c.fetchall():\n",
    "    print n[0],'|',n[1]"
   ]
  },
  {
   "cell_type": "code",
   "execution_count": 38,
   "metadata": {},
   "outputs": [
    {
     "name": "stdout",
     "output_type": "stream",
     "text": [
      "key|value\n",
      "-|-\n",
      "street | Northeast 24th Street\n",
      "street | Northeast 24th Street\n",
      "street | Northeast 24th Street\n",
      "street | Northeast 24th Street\n",
      "street | Northeast 24th Street\n",
      "street | NE 24th St\n",
      "street | NE 24th St\n",
      "street | 152 Ave NE\n",
      "street | NE 24th St\n",
      "street | NE 24th St\n",
      "street | 25th Ave NE\n"
     ]
    }
   ],
   "source": [
    "c.execute(\"\"\"\n",
    "SELECT key, value\n",
    "FROM new_nodes_tags\n",
    "WHERE key = 'street'\n",
    "LIMIT 25;\"\"\")\n",
    "print 'key|value'\n",
    "print '-|-'\n",
    "i = 0\n",
    "for n in c.fetchall():\n",
    "    if i > 13:\n",
    "        print n[0],'|',n[1]\n",
    "    i += 1"
   ]
  },
  {
   "cell_type": "code",
   "execution_count": 25,
   "metadata": {
    "collapsed": true
   },
   "outputs": [
    {
     "name": "stdout",
     "output_type": "stream",
     "text": [
      "key|count|value\n",
      "-|-|-\n",
      "source | 545 | Yahoo,TIGER\n",
      "is_in | 221 | King, WA\n",
      "name | 49 | Armar Trailhead, Centennial Trail\n",
      "note | 36 | Biergarten has a specific meaning, a beer_garden is perhaps an outdoor area attached to a pub\n",
      "lanes | 35 | 2 westbound, 1 eastbound\n",
      "opening_hours | 32 | Mon: 9am-5pm, Tue-Thu: 7am-10pm, Fri-Sat: 7am-12am, Sun: 7am-9pm\n",
      "description | 21 | Common play area for kids in the neighborhood, open space, as well as a basketball court and openings to all the houses.\n",
      "fixme | 12 | turn into multipolygon, exclude building footpring from parking lot\n",
      "directions | 8 | NE 50 St, NE 45 St\n",
      "operator | 7 | Skagit Aggregates, LLC\n",
      "wikipedia | 5 | en:Seventh Church of Christ, Scientist (Seattle, Washington)\n",
      "old_ref | 4 | http://en.wikipedia.org/wiki/Interbay,_Seattle\n",
      "closest_town | 3 | Everett, Washington\n",
      "sport | 3 | baseball; soccer, multi\n",
      "noname | 2 | 2012 US Census Tiger/Line Shapefiles (All Roads, King County)\n",
      "SOURCE_DES | 1 | 2012 TIGER/Line Shapefile, State File, Place\n",
      "alt_name | 1 | Fraternal Order of Eagles, Aerie No. 1: The Mother Aerie\n",
      "collection_times | 1 | Mo-Fr 08:30-17:30, Sa 08:30-15:00\n",
      "crop | 1 | Strawberries,_Corn,_Blueberries,_raspberries\n",
      "cuisine | 1 | sandwiches, appetizers\n",
      "designation | 1 | 118 5th Avenue North, Edmonds, WA 98020\n",
      "for | 1 | seniors,_children\n",
      "full | 1 | 9613 20th St SE, Everett (at Hwy 9)\n",
      "housename | 1 | Landmark Motors, Inc.\n",
      "media | 1 | Bronze, brick\n",
      "street | 1 | Hwy 99, Ste H\n"
     ]
    }
   ],
   "source": [
    "c.execute(\"\"\"\n",
    "SELECT key, COUNT(*), value\n",
    "FROM new_ways_tags\n",
    "WHERE value LIKE '%,%'\n",
    "GROUP BY key\n",
    "ORDER BY COUNT(*)\n",
    "DESC;\"\"\")\n",
    "print 'key|count|value'\n",
    "print '-|-|-'\n",
    "for n in c.fetchall():\n",
    "    print n[0],'|',n[1],'|',n[2]"
   ]
  },
  {
   "cell_type": "code",
   "execution_count": 6,
   "metadata": {},
   "outputs": [
    {
     "name": "stdout",
     "output_type": "stream",
     "text": [
      "id|key|value|type\n",
      "-|-|-|-\n",
      "29362438 | opening_hours | Mo-Th 11:00-22:00; Fr 11:00-23:00; Sa 12:00-23:00; Su 12:00-22:00 | regular\n"
     ]
    }
   ],
   "source": [
    "c.execute(\"\"\"\n",
    "SELECT id, key, value, type\n",
    "FROM new_ways_tags\n",
    "WHERE value LIKE '%;%'\n",
    "AND key = 'opening_hours'\n",
    "LIMIT 1;\"\"\")\n",
    "print 'id|key|value|type'\n",
    "print '-|-|-|-'\n",
    "for n in c.fetchall():\n",
    "    print n[0],'|',n[1],'|',n[2],'|',n[3]"
   ]
  },
  {
   "cell_type": "code",
   "execution_count": null,
   "metadata": {
    "collapsed": true
   },
   "outputs": [],
   "source": []
  }
 ],
 "metadata": {
  "kernelspec": {
   "display_name": "Python 2",
   "language": "python",
   "name": "python2"
  },
  "language_info": {
   "codemirror_mode": {
    "name": "ipython",
    "version": 2
   },
   "file_extension": ".py",
   "mimetype": "text/x-python",
   "name": "python",
   "nbconvert_exporter": "python",
   "pygments_lexer": "ipython2",
   "version": "2.7.14"
  }
 },
 "nbformat": 4,
 "nbformat_minor": 2
}
